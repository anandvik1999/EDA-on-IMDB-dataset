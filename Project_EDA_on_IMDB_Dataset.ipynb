{
  "nbformat": 4,
  "nbformat_minor": 0,
  "metadata": {
    "kernelspec": {
      "display_name": "Python 3",
      "language": "python",
      "name": "python3"
    },
    "language_info": {
      "codemirror_mode": {
        "name": "ipython",
        "version": 3
      },
      "file_extension": ".py",
      "mimetype": "text/x-python",
      "name": "python",
      "nbconvert_exporter": "python",
      "pygments_lexer": "ipython3",
      "version": "3.7.1"
    },
    "colab": {
      "name": "Project - EDA on IMDB Dataset.ipynb",
      "provenance": [],
      "collapsed_sections": []
    }
  },
  "cells": [
    {
      "cell_type": "markdown",
      "metadata": {
        "id": "3_Fv7J8jTBlu"
      },
      "source": [
        "## You have been hired by a rookie movie producer to help him decide what type of movies to produce and which actors to cast. You have to back your recommendations based on thorough analysis of the data he shared with you which has the list of 3000 movies and the corresponding details.\n",
        "\n",
        "## As a data scientist, you have to first explore the data and check its sanity.\n",
        "\n",
        "## Further, you have to answer the following questions:\n",
        "1. ### <b> Which movie made the highest profit? Who were its producer and director? Identify the actors in that film.</b>\n",
        "2. ### <b>This data has information about movies made in different languages. Which language has the highest average ROI (return on investment)? </b>\n",
        "3. ### <b> Find out the unique genres of movies in this dataset.</b>\n",
        "4. ### <b> Make a table of all the producers and directors of each movie. Find the top 3 producers who have produced movies with the highest average RoI? </b>\n",
        "5. ### <b> Which actor has acted in the most number of movies? Deep dive into the movies, genres and profits corresponding to this actor. </b>\n",
        "6. ### <b>Top 3 directors prefer which actors the most? </b>\n",
        "\n"
      ]
    },
    {
      "cell_type": "markdown",
      "metadata": {
        "id": "Fx8CVjtZW_BF"
      },
      "source": [
        "# Data Exploration"
      ]
    },
    {
      "cell_type": "code",
      "metadata": {
        "id": "vq7iMfybnKNP",
        "colab": {
          "base_uri": "https://localhost:8080/"
        },
        "outputId": "c4a5cc0b-7f53-48cc-a428-08dd22ccb8e1"
      },
      "source": [
        "#Import package\n",
        "import pandas as pd\n",
        "import numpy as np\n",
        "from google.colab import drive\n",
        "drive.mount('/content/drive')\n",
        "file_path = '/content/drive/MyDrive/imdb_data.csv'\n",
        "imdb_df=pd.read_csv(file_path)\n",
        "imdb_df.drop('id',axis = 1,inplace= True)"
      ],
      "execution_count": null,
      "outputs": [
        {
          "output_type": "stream",
          "text": [
            "Mounted at /content/drive\n"
          ],
          "name": "stdout"
        }
      ]
    },
    {
      "cell_type": "code",
      "metadata": {
        "id": "wsNc_iS1cKIx"
      },
      "source": [
        "imdb_df.rename(columns= {'original_title':'movies'})"
      ],
      "execution_count": null,
      "outputs": []
    },
    {
      "cell_type": "code",
      "metadata": {
        "id": "NlNqGiHBcMzP"
      },
      "source": [
        "imdb_no_na = imdb_df[~imdb_df['cast'].isna()]"
      ],
      "execution_count": null,
      "outputs": []
    },
    {
      "cell_type": "code",
      "metadata": {
        "id": "Q-Sw78s0citr"
      },
      "source": [
        "imdb_no_na['cast']"
      ],
      "execution_count": null,
      "outputs": []
    },
    {
      "cell_type": "code",
      "metadata": {
        "id": "-JJrbXxMckFI"
      },
      "source": [
        "imdb_df['cast_list'] = imdb_no_na.apply(lambda s : eval(s['cast']),axis = 1)"
      ],
      "execution_count": null,
      "outputs": []
    },
    {
      "cell_type": "code",
      "metadata": {
        "id": "5pZQh2hRcog5"
      },
      "source": [
        "def actor_of_title(rep_of_cast) :\n",
        "  actors = []\n",
        "  try :\n",
        "   for elem in rep_of_cast :\n",
        "     if elem['gender'] == 2 :\n",
        "      actors.append(elem['name'])   \n",
        "   return actors  \n",
        "  except :\n",
        "    return []"
      ],
      "execution_count": null,
      "outputs": []
    },
    {
      "cell_type": "code",
      "metadata": {
        "id": "RzbjSfaYctwB"
      },
      "source": [
        "imdb_df['actors'] = imdb_df.apply(lambda s : actor_of_title(s['cast_list']),axis = 1)"
      ],
      "execution_count": null,
      "outputs": []
    },
    {
      "cell_type": "code",
      "metadata": {
        "id": "Vd0esKI3c0tM"
      },
      "source": [
        "imdb_no_na_genres = imdb_df[~imdb_df['genres'].isna()]\n",
        "imdb_df['genre'] = imdb_no_na_genres.apply(lambda s : eval(s['genres']),axis = 1)"
      ],
      "execution_count": null,
      "outputs": []
    },
    {
      "cell_type": "code",
      "metadata": {
        "id": "hymcYg0mc19K"
      },
      "source": [
        "imdb_df.head(1)"
      ],
      "execution_count": null,
      "outputs": []
    },
    {
      "cell_type": "code",
      "metadata": {
        "id": "ZfKvdZgXc5tz"
      },
      "source": [
        "imdb_df.loc[imdb_df['budget']<=1000,'budget'] = imdb_df.loc[imdb_df['budget'] >=1000,'budget'].median()\n",
        "imdb_df.loc[imdb_df['revenue']<=1000,'revenue'] = imdb_df.loc[imdb_df['revenue'] >=1000,'revenue'].median()\n",
        "imdb_df['profit'] = imdb_df['revenue'] - imdb_df['budget']"
      ],
      "execution_count": null,
      "outputs": []
    },
    {
      "cell_type": "code",
      "metadata": {
        "id": "1JXLIIuxeQtF"
      },
      "source": [
        "imdb_df['crew_list'] = imdb_df[~imdb_df['crew'].isna()].apply(lambda s : eval(s['crew']),axis = 1)"
      ],
      "execution_count": null,
      "outputs": []
    },
    {
      "cell_type": "code",
      "metadata": {
        "id": "Gb4MDawfdAWM"
      },
      "source": [
        "#1st question"
      ],
      "execution_count": null,
      "outputs": []
    },
    {
      "cell_type": "code",
      "metadata": {
        "id": "sv6dYkrfdInJ"
      },
      "source": [
        "max_profit_row = imdb_df[imdb_df['profit'] == imdb_df['profit'].max()]"
      ],
      "execution_count": null,
      "outputs": []
    },
    {
      "cell_type": "code",
      "metadata": {
        "id": "cuzhhdy0fJ8a"
      },
      "source": [
        "imdb_df['roi'] = 100*(imdb_df['profit']/imdb_df['budget'])"
      ],
      "execution_count": null,
      "outputs": []
    },
    {
      "cell_type": "code",
      "metadata": {
        "id": "NFpBTJLWd0NP"
      },
      "source": [
        "def genre_list_by_row(genre_string) :\n",
        "\n",
        " genre_list = []\n",
        " try :\n",
        "  for elem in genre_string :\n",
        "    genre_list.append(elem['name'])\n",
        "  return genre_list  \n",
        " except :\n",
        "     print(\"[]'\") \n"
      ],
      "execution_count": null,
      "outputs": []
    },
    {
      "cell_type": "code",
      "metadata": {
        "id": "bqk0OzfvfB0U",
        "colab": {
          "base_uri": "https://localhost:8080/"
        },
        "outputId": "bd006245-7db0-44fc-f733-d6b67cce57bd"
      },
      "source": [
        "imdb_df['genres_by_list'] = imdb_df.apply(lambda s : genre_list_by_row(s['genre']),axis = 1 )"
      ],
      "execution_count": null,
      "outputs": [
        {
          "output_type": "stream",
          "text": [
            "[]'\n",
            "[]'\n",
            "[]'\n",
            "[]'\n",
            "[]'\n",
            "[]'\n",
            "[]'\n"
          ],
          "name": "stdout"
        }
      ]
    },
    {
      "cell_type": "code",
      "metadata": {
        "id": "kBMGhAKqf8Vm"
      },
      "source": [
        "genre_to_actor = []\n",
        "movies_to_actor = []\n",
        "earning = []\n",
        "for index,row in imdb_df.iterrows() :\n",
        "  for elem in imdb_df.loc[index]['actors'] :\n",
        "      if elem == 'Robert De Niro' :\n",
        "        genre_to_actor.append(imdb_df.loc[index]['genres_by_list'])\n",
        "        earning.append(imdb_df.loc[index]['profit'])\n",
        "        movies_to_actor.append(imdb_df.loc[index]['original_title'])"
      ],
      "execution_count": null,
      "outputs": []
    },
    {
      "cell_type": "code",
      "metadata": {
        "id": "kKcdkX8ojTpL"
      },
      "source": [
        "pd.DataFrame(genre_to_actor,columns= ['G0','G1','G2','G3','G4'])\n"
      ],
      "execution_count": null,
      "outputs": []
    },
    {
      "cell_type": "code",
      "metadata": {
        "id": "vmxutSSmjW47",
        "colab": {
          "base_uri": "https://localhost:8080/"
        },
        "outputId": "4f44cd2e-eb29-40ec-94ad-a5e72e0df4e5"
      },
      "source": [
        "sum(earning)"
      ],
      "execution_count": null,
      "outputs": [
        {
          "output_type": "execute_result",
          "data": {
            "text/plain": [
              "802612528"
            ]
          },
          "metadata": {
            "tags": []
          },
          "execution_count": 62
        }
      ]
    },
    {
      "cell_type": "code",
      "metadata": {
        "id": "8rW0plTZjaT_"
      },
      "source": [
        "imdb_df['crew_list'] = imdb_df[~imdb_df['crew'].isna()].apply(lambda s : eval(s['crew']),axis = 1)"
      ],
      "execution_count": null,
      "outputs": []
    },
    {
      "cell_type": "code",
      "metadata": {
        "id": "YZbv98qwji1U"
      },
      "source": [
        "imdb_df['crew_list'] = imdb_df['crew_list'] .dropna()"
      ],
      "execution_count": null,
      "outputs": []
    },
    {
      "cell_type": "code",
      "metadata": {
        "id": "GcvCnu5DjlYf"
      },
      "source": [
        "def directors_to_list(crews_list) : \n",
        "  directors_list = []\n",
        "  producers_list = []\n",
        "  try :\n",
        "     for elem in crews_list :\n",
        "       if elem['job'] == 'Director' :\n",
        "         directors_list.append(elem['name'])  \n",
        "       if elem['job'] == 'Producer' :\n",
        "         producers_list.append(elem['name'])\n",
        "     return directors_list ,producers_list\n",
        "  except :\n",
        "    print(index)         \n"
      ],
      "execution_count": null,
      "outputs": []
    },
    {
      "cell_type": "code",
      "metadata": {
        "id": "rDi-9j5zjoBf",
        "colab": {
          "base_uri": "https://localhost:8080/"
        },
        "outputId": "198c14fe-3b74-4884-97b5-9ee2ede89296"
      },
      "source": [
        "imdb_df[['director','producer']] = imdb_df.apply(lambda s : directors_to_list(s['crew_list']),axis = 1,result_type='expand')\n"
      ],
      "execution_count": null,
      "outputs": [
        {
          "output_type": "stream",
          "text": [
            "2999\n",
            "2999\n",
            "2999\n",
            "2999\n",
            "2999\n",
            "2999\n",
            "2999\n",
            "2999\n",
            "2999\n",
            "2999\n",
            "2999\n",
            "2999\n",
            "2999\n",
            "2999\n",
            "2999\n",
            "2999\n"
          ],
          "name": "stdout"
        }
      ]
    },
    {
      "cell_type": "code",
      "metadata": {
        "id": "lCHhcphHkAuN",
        "colab": {
          "base_uri": "https://localhost:8080/"
        },
        "outputId": "543f5375-a561-4d9e-87d0-93bfcaed00aa"
      },
      "source": [
        "director_dict = {}\n",
        "try:\n",
        " for index,row in imdb_df.iterrows() :\n",
        "   for director in row['director'] :\n",
        "     if director not in director_dict.keys() :\n",
        "       director_dict[director] = [row['roi']]\n",
        "except :\n",
        "  print([])"
      ],
      "execution_count": null,
      "outputs": [
        {
          "output_type": "stream",
          "text": [
            "[]\n"
          ],
          "name": "stdout"
        }
      ]
    },
    {
      "cell_type": "code",
      "metadata": {
        "id": "p6CIU_v7kMyc"
      },
      "source": [
        "director_df = pd.DataFrame.from_dict(director_dict,columns=['roi'],orient='index')"
      ],
      "execution_count": null,
      "outputs": []
    },
    {
      "cell_type": "code",
      "metadata": {
        "id": "TDbdBVJMkPh9",
        "colab": {
          "base_uri": "https://localhost:8080/",
          "height": 424
        },
        "outputId": "79837870-ae7a-4459-fc32-59d850ece590"
      },
      "source": [
        "director_df.sort_values(by=['roi'],ascending = False)"
      ],
      "execution_count": null,
      "outputs": [
        {
          "output_type": "execute_result",
          "data": {
            "text/html": [
              "<div>\n",
              "<style scoped>\n",
              "    .dataframe tbody tr th:only-of-type {\n",
              "        vertical-align: middle;\n",
              "    }\n",
              "\n",
              "    .dataframe tbody tr th {\n",
              "        vertical-align: top;\n",
              "    }\n",
              "\n",
              "    .dataframe thead th {\n",
              "        text-align: right;\n",
              "    }\n",
              "</style>\n",
              "<table border=\"1\" class=\"dataframe\">\n",
              "  <thead>\n",
              "    <tr style=\"text-align: right;\">\n",
              "      <th></th>\n",
              "      <th>roi</th>\n",
              "    </tr>\n",
              "  </thead>\n",
              "  <tbody>\n",
              "    <tr>\n",
              "      <th>John G. Avildsen</th>\n",
              "      <td>11623.514700</td>\n",
              "    </tr>\n",
              "    <tr>\n",
              "      <th>Kevin Smith</th>\n",
              "      <td>11570.851852</td>\n",
              "    </tr>\n",
              "    <tr>\n",
              "      <th>Shane Carruth</th>\n",
              "      <td>5968.000000</td>\n",
              "    </tr>\n",
              "    <tr>\n",
              "      <th>Mike Newell</th>\n",
              "      <td>4145.013867</td>\n",
              "    </tr>\n",
              "    <tr>\n",
              "      <th>Stevan Filipoviƒá</th>\n",
              "      <td>3397.506200</td>\n",
              "    </tr>\n",
              "    <tr>\n",
              "      <th>...</th>\n",
              "      <td>...</td>\n",
              "    </tr>\n",
              "    <tr>\n",
              "      <th>Lancelot Oduwa Imasuen</th>\n",
              "      <td>-99.956407</td>\n",
              "    </tr>\n",
              "    <tr>\n",
              "      <th>Erik Matti</th>\n",
              "      <td>-99.956407</td>\n",
              "    </tr>\n",
              "    <tr>\n",
              "      <th>Bill Plympton</th>\n",
              "      <td>-99.956407</td>\n",
              "    </tr>\n",
              "    <tr>\n",
              "      <th>R.D. Robb</th>\n",
              "      <td>-99.961720</td>\n",
              "    </tr>\n",
              "    <tr>\n",
              "      <th>Jesse V. Johnson</th>\n",
              "      <td>-99.991070</td>\n",
              "    </tr>\n",
              "  </tbody>\n",
              "</table>\n",
              "<p>489 rows × 1 columns</p>\n",
              "</div>"
            ],
            "text/plain": [
              "                                 roi\n",
              "John G. Avildsen        11623.514700\n",
              "Kevin Smith             11570.851852\n",
              "Shane Carruth            5968.000000\n",
              "Mike Newell              4145.013867\n",
              "Stevan Filipoviƒá        3397.506200\n",
              "...                              ...\n",
              "Lancelot Oduwa Imasuen    -99.956407\n",
              "Erik Matti                -99.956407\n",
              "Bill Plympton             -99.956407\n",
              "R.D. Robb                 -99.961720\n",
              "Jesse V. Johnson          -99.991070\n",
              "\n",
              "[489 rows x 1 columns]"
            ]
          },
          "metadata": {
            "tags": []
          },
          "execution_count": 83
        }
      ]
    },
    {
      "cell_type": "code",
      "metadata": {
        "id": "fPb28CaXkSPD",
        "colab": {
          "base_uri": "https://localhost:8080/"
        },
        "outputId": "a04879a1-27e0-46e2-abb9-017457e17221"
      },
      "source": [
        "# Your code here \n",
        "john_fav_actor = []\n",
        "john_fav_actor_roi = []\n",
        "kevin_fav_actor = []\n",
        "kevin_fav_actor_roi = []\n",
        "shane_fav_actor = []\n",
        "shane_fav_actor_roi = []\n",
        "try :\n",
        " for index,row in imdb_df.iterrows() :\n",
        "     for elem in row['director'] :\n",
        "       if elem == 'John G. Avildsen' :\n",
        "         john_fav_actor.append(row['actors'])\n",
        "         john_fav_actor_roi.append(row['roi'])\n",
        "       if elem == 'Kevin Smith' :\n",
        "         kevin_fav_actor.append(row['actors'])\n",
        "         kevin_fav_actor_roi.append(row['roi'])\n",
        "       if elem == 'Shane Carruth' :\n",
        "         shane_fav_actor.append(row['actors'])\n",
        "         shane_fav_actor_roi.append(row['roi'])\n",
        "\n",
        "except :\n",
        "  print([])"
      ],
      "execution_count": null,
      "outputs": [
        {
          "output_type": "stream",
          "text": [
            "[]\n"
          ],
          "name": "stdout"
        }
      ]
    },
    {
      "cell_type": "code",
      "metadata": {
        "id": "8CZj3aJykd9o",
        "colab": {
          "base_uri": "https://localhost:8080/"
        },
        "outputId": "6296fe43-76b5-4c2e-8079-1151dd6cdb9a"
      },
      "source": [
        "john_fav_actor[0],max(john_fav_actor_roi)"
      ],
      "execution_count": null,
      "outputs": [
        {
          "output_type": "execute_result",
          "data": {
            "text/plain": [
              "(['Sylvester Stallone',\n",
              "  'Burt Young',\n",
              "  'Burgess Meredith',\n",
              "  'Thayer David',\n",
              "  'Joe Spinell',\n",
              "  'Tony Burton',\n",
              "  'Joe Frazier',\n",
              "  'Stan Shaw',\n",
              "  'Michael Dorn',\n",
              "  'Bill Baldwin',\n",
              "  'Lloyd Kaufman',\n",
              "  'Al Silvani',\n",
              "  'Larry Carroll',\n",
              "  'Frank Stallone',\n",
              "  'Simmy Bow',\n",
              "  'Frank Pesce',\n",
              "  'John Pleshette',\n",
              "  'Pedro Lovell',\n",
              "  'Stu Nahan',\n",
              "  'Arnold Johnson'],\n",
              " 11623.5147)"
            ]
          },
          "metadata": {
            "tags": []
          },
          "execution_count": 77
        }
      ]
    },
    {
      "cell_type": "code",
      "metadata": {
        "id": "1mOPkhNikhuf",
        "colab": {
          "base_uri": "https://localhost:8080/"
        },
        "outputId": "2df5b436-7390-4400-e2c0-ae73dfba7860"
      },
      "source": [
        "kevin_fav_actor,kevin_fav_actor_roi"
      ],
      "execution_count": null,
      "outputs": [
        {
          "output_type": "execute_result",
          "data": {
            "text/plain": [
              "([[\"Brian O'Halloran\",\n",
              "   'Jeff Anderson',\n",
              "   'Jason Mewes',\n",
              "   'Kevin Smith',\n",
              "   'Scott Mosier',\n",
              "   'Walt Flanagan',\n",
              "   'David Klein']],\n",
              " [11570.851851851852])"
            ]
          },
          "metadata": {
            "tags": []
          },
          "execution_count": 78
        }
      ]
    },
    {
      "cell_type": "code",
      "metadata": {
        "id": "Ues6BGPZklZV",
        "colab": {
          "base_uri": "https://localhost:8080/"
        },
        "outputId": "0857ad8b-f700-4248-9cd6-18323178e757"
      },
      "source": [
        "shane_fav_actor,shane_fav_actor_roi"
      ],
      "execution_count": null,
      "outputs": [
        {
          "output_type": "execute_result",
          "data": {
            "text/plain": [
              "([['Shane Carruth', 'David Sullivan', 'David Joyner']], [5968.0])"
            ]
          },
          "metadata": {
            "tags": []
          },
          "execution_count": 79
        }
      ]
    },
    {
      "cell_type": "code",
      "metadata": {
        "id": "2_qcYV_zkvOC"
      },
      "source": [
        "imdb_df"
      ],
      "execution_count": null,
      "outputs": []
    },
    {
      "cell_type": "code",
      "metadata": {
        "id": "1V6Bbn2LkwRq",
        "colab": {
          "base_uri": "https://localhost:8080/"
        },
        "outputId": "f519a461-3326-4e7d-a85c-c7cb3d7b202b"
      },
      "source": [
        "imdb_df.loc[imdb_df['profit']==imdb_df['profit'].max()]['producer']\n"
      ],
      "execution_count": null,
      "outputs": [
        {
          "output_type": "execute_result",
          "data": {
            "text/plain": [
              "1761    [Vin Diesel, Neal H. Moritz, Michael Fottrell,...\n",
              "Name: producer, dtype: object"
            ]
          },
          "metadata": {
            "tags": []
          },
          "execution_count": 102
        }
      ]
    },
    {
      "cell_type": "code",
      "metadata": {
        "id": "Qd0q4BaUlROT",
        "colab": {
          "base_uri": "https://localhost:8080/"
        },
        "outputId": "b2616401-e044-4097-cd78-eb52d0710482"
      },
      "source": [
        "imdb_df.loc[1761]['director']"
      ],
      "execution_count": null,
      "outputs": [
        {
          "output_type": "execute_result",
          "data": {
            "text/plain": [
              "['James Wan']"
            ]
          },
          "metadata": {
            "tags": []
          },
          "execution_count": 103
        }
      ]
    },
    {
      "cell_type": "code",
      "metadata": {
        "id": "-AP0Ov1SlShm",
        "colab": {
          "base_uri": "https://localhost:8080/"
        },
        "outputId": "d2b4b7d3-f28e-4714-8d9f-029e5470ce0e"
      },
      "source": [
        "imdb_df.loc[1761]['producer']"
      ],
      "execution_count": null,
      "outputs": [
        {
          "output_type": "execute_result",
          "data": {
            "text/plain": [
              "['Vin Diesel', 'Neal H. Moritz', 'Michael Fottrell', 'Brandon Birtell']"
            ]
          },
          "metadata": {
            "tags": []
          },
          "execution_count": 97
        }
      ]
    },
    {
      "cell_type": "code",
      "metadata": {
        "id": "jHyTAmSJlqOg",
        "colab": {
          "base_uri": "https://localhost:8080/"
        },
        "outputId": "ded74d91-a80f-484f-d01b-6c58c7d89632"
      },
      "source": [
        "imdb_df.loc[1761]['actors']"
      ],
      "execution_count": null,
      "outputs": [
        {
          "output_type": "execute_result",
          "data": {
            "text/plain": [
              "['Vin Diesel',\n",
              " 'Paul Walker',\n",
              " 'Dwayne Johnson',\n",
              " 'Tyrese Gibson',\n",
              " 'Ludacris',\n",
              " 'Djimon Hounsou',\n",
              " 'Tony Jaa',\n",
              " 'Kurt Russell',\n",
              " 'Jason Statham',\n",
              " 'Sung Kang',\n",
              " 'Lucas Black',\n",
              " 'Noel Gugliemi',\n",
              " 'John Brotherton',\n",
              " 'Luke Evans',\n",
              " 'Ali Fazal',\n",
              " 'Gentry White',\n",
              " 'Steve Coulter',\n",
              " 'Brian Mahoney',\n",
              " 'Tego Calder√≥n',\n",
              " 'Cody Walker']"
            ]
          },
          "metadata": {
            "tags": []
          },
          "execution_count": 98
        }
      ]
    },
    {
      "cell_type": "code",
      "metadata": {
        "id": "7Jsy16vbl46f",
        "colab": {
          "base_uri": "https://localhost:8080/",
          "height": 542
        },
        "outputId": "447f8ec9-dffc-4b8d-e66c-9516c10fd41f"
      },
      "source": [
        "imdb_df.head(4)"
      ],
      "execution_count": null,
      "outputs": [
        {
          "output_type": "execute_result",
          "data": {
            "text/html": [
              "<div>\n",
              "<style scoped>\n",
              "    .dataframe tbody tr th:only-of-type {\n",
              "        vertical-align: middle;\n",
              "    }\n",
              "\n",
              "    .dataframe tbody tr th {\n",
              "        vertical-align: top;\n",
              "    }\n",
              "\n",
              "    .dataframe thead th {\n",
              "        text-align: right;\n",
              "    }\n",
              "</style>\n",
              "<table border=\"1\" class=\"dataframe\">\n",
              "  <thead>\n",
              "    <tr style=\"text-align: right;\">\n",
              "      <th></th>\n",
              "      <th>belongs_to_collection</th>\n",
              "      <th>budget</th>\n",
              "      <th>genres</th>\n",
              "      <th>homepage</th>\n",
              "      <th>imdb_id</th>\n",
              "      <th>original_language</th>\n",
              "      <th>original_title</th>\n",
              "      <th>overview</th>\n",
              "      <th>popularity</th>\n",
              "      <th>poster_path</th>\n",
              "      <th>production_companies</th>\n",
              "      <th>production_countries</th>\n",
              "      <th>release_date</th>\n",
              "      <th>runtime</th>\n",
              "      <th>spoken_languages</th>\n",
              "      <th>status</th>\n",
              "      <th>tagline</th>\n",
              "      <th>title</th>\n",
              "      <th>Keywords</th>\n",
              "      <th>cast</th>\n",
              "      <th>crew</th>\n",
              "      <th>revenue</th>\n",
              "      <th>cast_list</th>\n",
              "      <th>actors</th>\n",
              "      <th>profit</th>\n",
              "      <th>genre</th>\n",
              "      <th>crew_list</th>\n",
              "      <th>roi</th>\n",
              "      <th>genres_by_list</th>\n",
              "      <th>director</th>\n",
              "      <th>producer</th>\n",
              "    </tr>\n",
              "  </thead>\n",
              "  <tbody>\n",
              "    <tr>\n",
              "      <th>0</th>\n",
              "      <td>[{'id': 313576, 'name': 'Hot Tub Time Machine ...</td>\n",
              "      <td>14000000</td>\n",
              "      <td>[{'id': 35, 'name': 'Comedy'}]</td>\n",
              "      <td>NaN</td>\n",
              "      <td>tt2637294</td>\n",
              "      <td>en</td>\n",
              "      <td>Hot Tub Time Machine 2</td>\n",
              "      <td>When Lou, who has become the \"father of the In...</td>\n",
              "      <td>6.575393</td>\n",
              "      <td>/tQtWuwvMf0hCc2QR2tkolwl7c3c.jpg</td>\n",
              "      <td>[{'name': 'Paramount Pictures', 'id': 4}, {'na...</td>\n",
              "      <td>[{'iso_3166_1': 'US', 'name': 'United States o...</td>\n",
              "      <td>2/20/15</td>\n",
              "      <td>93.0</td>\n",
              "      <td>[{'iso_639_1': 'en', 'name': 'English'}]</td>\n",
              "      <td>Released</td>\n",
              "      <td>The Laws of Space and Time are About to be Vio...</td>\n",
              "      <td>Hot Tub Time Machine 2</td>\n",
              "      <td>[{'id': 4379, 'name': 'time travel'}, {'id': 9...</td>\n",
              "      <td>[{'cast_id': 4, 'character': 'Lou', 'credit_id...</td>\n",
              "      <td>[{'credit_id': '59ac067c92514107af02c8c8', 'de...</td>\n",
              "      <td>12314651</td>\n",
              "      <td>[{'cast_id': 4, 'character': 'Lou', 'credit_id...</td>\n",
              "      <td>[Rob Corddry, Craig Robinson, Clark Duke, Adam...</td>\n",
              "      <td>-1685349</td>\n",
              "      <td>[{'id': 35, 'name': 'Comedy'}]</td>\n",
              "      <td>[{'credit_id': '59ac067c92514107af02c8c8', 'de...</td>\n",
              "      <td>-12.038207</td>\n",
              "      <td>[Comedy]</td>\n",
              "      <td>[Steve Pink]</td>\n",
              "      <td>[Andrew Panay]</td>\n",
              "    </tr>\n",
              "    <tr>\n",
              "      <th>1</th>\n",
              "      <td>[{'id': 107674, 'name': 'The Princess Diaries ...</td>\n",
              "      <td>40000000</td>\n",
              "      <td>[{'id': 35, 'name': 'Comedy'}, {'id': 18, 'nam...</td>\n",
              "      <td>NaN</td>\n",
              "      <td>tt0368933</td>\n",
              "      <td>en</td>\n",
              "      <td>The Princess Diaries 2: Royal Engagement</td>\n",
              "      <td>Mia Thermopolis is now a college graduate and ...</td>\n",
              "      <td>8.248895</td>\n",
              "      <td>/w9Z7A0GHEhIp7etpj0vyKOeU1Wx.jpg</td>\n",
              "      <td>[{'name': 'Walt Disney Pictures', 'id': 2}]</td>\n",
              "      <td>[{'iso_3166_1': 'US', 'name': 'United States o...</td>\n",
              "      <td>8/6/04</td>\n",
              "      <td>113.0</td>\n",
              "      <td>[{'iso_639_1': 'en', 'name': 'English'}]</td>\n",
              "      <td>Released</td>\n",
              "      <td>It can take a lifetime to find true love; she'...</td>\n",
              "      <td>The Princess Diaries 2: Royal Engagement</td>\n",
              "      <td>[{'id': 2505, 'name': 'coronation'}, {'id': 42...</td>\n",
              "      <td>[{'cast_id': 1, 'character': 'Mia Thermopolis'...</td>\n",
              "      <td>[{'credit_id': '52fe43fe9251416c7502563d', 'de...</td>\n",
              "      <td>95149435</td>\n",
              "      <td>[{'cast_id': 1, 'character': 'Mia Thermopolis'...</td>\n",
              "      <td>[H√©ctor Elizondo, John Rhys-Davies, Chris Pin...</td>\n",
              "      <td>55149435</td>\n",
              "      <td>[{'id': 35, 'name': 'Comedy'}, {'id': 18, 'nam...</td>\n",
              "      <td>[{'credit_id': '52fe43fe9251416c7502563d', 'de...</td>\n",
              "      <td>137.873588</td>\n",
              "      <td>[Comedy, Drama, Family, Romance]</td>\n",
              "      <td>[Garry Marshall]</td>\n",
              "      <td>[Whitney Houston, Mario Iscovich, Debra Martin...</td>\n",
              "    </tr>\n",
              "    <tr>\n",
              "      <th>2</th>\n",
              "      <td>NaN</td>\n",
              "      <td>3300000</td>\n",
              "      <td>[{'id': 18, 'name': 'Drama'}]</td>\n",
              "      <td>http://sonyclassics.com/whiplash/</td>\n",
              "      <td>tt2582802</td>\n",
              "      <td>en</td>\n",
              "      <td>Whiplash</td>\n",
              "      <td>Under the direction of a ruthless instructor, ...</td>\n",
              "      <td>64.299990</td>\n",
              "      <td>/lIv1QinFqz4dlp5U4lQ6HaiskOZ.jpg</td>\n",
              "      <td>[{'name': 'Bold Films', 'id': 2266}, {'name': ...</td>\n",
              "      <td>[{'iso_3166_1': 'US', 'name': 'United States o...</td>\n",
              "      <td>10/10/14</td>\n",
              "      <td>105.0</td>\n",
              "      <td>[{'iso_639_1': 'en', 'name': 'English'}]</td>\n",
              "      <td>Released</td>\n",
              "      <td>The road to greatness can take you to the edge.</td>\n",
              "      <td>Whiplash</td>\n",
              "      <td>[{'id': 1416, 'name': 'jazz'}, {'id': 1523, 'n...</td>\n",
              "      <td>[{'cast_id': 5, 'character': 'Andrew Neimann',...</td>\n",
              "      <td>[{'credit_id': '54d5356ec3a3683ba0000039', 'de...</td>\n",
              "      <td>13092000</td>\n",
              "      <td>[{'cast_id': 5, 'character': 'Andrew Neimann',...</td>\n",
              "      <td>[Miles Teller, J.K. Simmons, Austin Stowell, J...</td>\n",
              "      <td>9792000</td>\n",
              "      <td>[{'id': 18, 'name': 'Drama'}]</td>\n",
              "      <td>[{'credit_id': '54d5356ec3a3683ba0000039', 'de...</td>\n",
              "      <td>296.727273</td>\n",
              "      <td>[Drama]</td>\n",
              "      <td>[Damien Chazelle]</td>\n",
              "      <td>[David Lancaster, Michel Litvak, Jason Blum, H...</td>\n",
              "    </tr>\n",
              "    <tr>\n",
              "      <th>3</th>\n",
              "      <td>NaN</td>\n",
              "      <td>1200000</td>\n",
              "      <td>[{'id': 53, 'name': 'Thriller'}, {'id': 18, 'n...</td>\n",
              "      <td>http://kahaanithefilm.com/</td>\n",
              "      <td>tt1821480</td>\n",
              "      <td>hi</td>\n",
              "      <td>Kahaani</td>\n",
              "      <td>Vidya Bagchi (Vidya Balan) arrives in Kolkata ...</td>\n",
              "      <td>3.174936</td>\n",
              "      <td>/aTXRaPrWSinhcmCrcfJK17urp3F.jpg</td>\n",
              "      <td>NaN</td>\n",
              "      <td>[{'iso_3166_1': 'IN', 'name': 'India'}]</td>\n",
              "      <td>3/9/12</td>\n",
              "      <td>122.0</td>\n",
              "      <td>[{'iso_639_1': 'en', 'name': 'English'}, {'iso...</td>\n",
              "      <td>Released</td>\n",
              "      <td>NaN</td>\n",
              "      <td>Kahaani</td>\n",
              "      <td>[{'id': 10092, 'name': 'mystery'}, {'id': 1054...</td>\n",
              "      <td>[{'cast_id': 1, 'character': 'Vidya Bagchi', '...</td>\n",
              "      <td>[{'credit_id': '52fe48779251416c9108d6eb', 'de...</td>\n",
              "      <td>16000000</td>\n",
              "      <td>[{'cast_id': 1, 'character': 'Vidya Bagchi', '...</td>\n",
              "      <td>[Nawazuddin Siddiqui, Darshan Jariwala]</td>\n",
              "      <td>14800000</td>\n",
              "      <td>[{'id': 53, 'name': 'Thriller'}, {'id': 18, 'n...</td>\n",
              "      <td>[{'credit_id': '52fe48779251416c9108d6eb', 'de...</td>\n",
              "      <td>1233.333333</td>\n",
              "      <td>[Thriller, Drama]</td>\n",
              "      <td>[Sujoy Ghosh]</td>\n",
              "      <td>[Sujoy Ghosh]</td>\n",
              "    </tr>\n",
              "  </tbody>\n",
              "</table>\n",
              "</div>"
            ],
            "text/plain": [
              "                               belongs_to_collection  ...                                           producer\n",
              "0  [{'id': 313576, 'name': 'Hot Tub Time Machine ...  ...                                     [Andrew Panay]\n",
              "1  [{'id': 107674, 'name': 'The Princess Diaries ...  ...  [Whitney Houston, Mario Iscovich, Debra Martin...\n",
              "2                                                NaN  ...  [David Lancaster, Michel Litvak, Jason Blum, H...\n",
              "3                                                NaN  ...                                      [Sujoy Ghosh]\n",
              "\n",
              "[4 rows x 31 columns]"
            ]
          },
          "metadata": {
            "tags": []
          },
          "execution_count": 105
        }
      ]
    },
    {
      "cell_type": "code",
      "metadata": {
        "id": "rzZqS3Sgnb8C"
      },
      "source": [
        "\n"
      ],
      "execution_count": null,
      "outputs": []
    },
    {
      "cell_type": "code",
      "metadata": {
        "id": "gS4sohxeoPTv"
      },
      "source": [
        ""
      ],
      "execution_count": null,
      "outputs": []
    },
    {
      "cell_type": "code",
      "metadata": {
        "id": "SXQ5Mut_mvOe",
        "colab": {
          "base_uri": "https://localhost:8080/"
        },
        "outputId": "cdf2905e-19d0-4a5e-de78-1828507a56e1"
      },
      "source": [
        "producers_dict ={}\n",
        "movie_dict = {}\n",
        "\n",
        "try :\n",
        " for index,row in imdb_df.iterrows() :\n",
        "   #print(row['producer'])\n",
        "   for producer in row['producer'] :\n",
        "     if producer not in producers_dict.keys() :\n",
        "       #add producer and roi to him\n",
        "       producers_dict[producer] = [row['roi']]\n",
        "       movie_dict[producer] = [row['original_title']]\n",
        "     else :\n",
        "       #update value of producer one's set\n",
        "       value = producers_dict[producer]\n",
        "       value.append(row['roi'])\n",
        "       producers_dict[producer] = value\n",
        "except :\n",
        "  print(index)"
      ],
      "execution_count": null,
      "outputs": [
        {
          "output_type": "stream",
          "text": [
            "470\n"
          ],
          "name": "stdout"
        }
      ]
    },
    {
      "cell_type": "code",
      "metadata": {
        "id": "vGpXKcJfoYCR"
      },
      "source": [
        "producers_dict"
      ],
      "execution_count": null,
      "outputs": []
    },
    {
      "cell_type": "code",
      "metadata": {
        "id": "kTEd3v48oYyG",
        "colab": {
          "base_uri": "https://localhost:8080/",
          "height": 1000
        },
        "outputId": "94740816-bccc-4a59-808b-bc06a7b84f47"
      },
      "source": [
        "imdb_df.groupby(by=['original_language'],).agg({'roi':'mean'}).sort_values(by=['roi'] ,ascending = False)"
      ],
      "execution_count": null,
      "outputs": [
        {
          "output_type": "execute_result",
          "data": {
            "text/html": [
              "<div>\n",
              "<style scoped>\n",
              "    .dataframe tbody tr th:only-of-type {\n",
              "        vertical-align: middle;\n",
              "    }\n",
              "\n",
              "    .dataframe tbody tr th {\n",
              "        vertical-align: top;\n",
              "    }\n",
              "\n",
              "    .dataframe thead th {\n",
              "        text-align: right;\n",
              "    }\n",
              "</style>\n",
              "<table border=\"1\" class=\"dataframe\">\n",
              "  <thead>\n",
              "    <tr style=\"text-align: right;\">\n",
              "      <th></th>\n",
              "      <th>roi</th>\n",
              "    </tr>\n",
              "    <tr>\n",
              "      <th>original_language</th>\n",
              "      <th></th>\n",
              "    </tr>\n",
              "  </thead>\n",
              "  <tbody>\n",
              "    <tr>\n",
              "      <th>ko</th>\n",
              "      <td>11277.949295</td>\n",
              "    </tr>\n",
              "    <tr>\n",
              "      <th>el</th>\n",
              "      <td>5198.013245</td>\n",
              "    </tr>\n",
              "    <tr>\n",
              "      <th>sr</th>\n",
              "      <td>3397.506200</td>\n",
              "    </tr>\n",
              "    <tr>\n",
              "      <th>en</th>\n",
              "      <td>929.987781</td>\n",
              "    </tr>\n",
              "    <tr>\n",
              "      <th>tr</th>\n",
              "      <td>558.596201</td>\n",
              "    </tr>\n",
              "    <tr>\n",
              "      <th>de</th>\n",
              "      <td>510.347257</td>\n",
              "    </tr>\n",
              "    <tr>\n",
              "      <th>he</th>\n",
              "      <td>456.292450</td>\n",
              "    </tr>\n",
              "    <tr>\n",
              "      <th>te</th>\n",
              "      <td>440.076812</td>\n",
              "    </tr>\n",
              "    <tr>\n",
              "      <th>pl</th>\n",
              "      <td>395.816987</td>\n",
              "    </tr>\n",
              "    <tr>\n",
              "      <th>ml</th>\n",
              "      <td>370.833333</td>\n",
              "    </tr>\n",
              "    <tr>\n",
              "      <th>ur</th>\n",
              "      <td>350.673773</td>\n",
              "    </tr>\n",
              "    <tr>\n",
              "      <th>zh</th>\n",
              "      <td>309.093227</td>\n",
              "    </tr>\n",
              "    <tr>\n",
              "      <th>hi</th>\n",
              "      <td>249.618424</td>\n",
              "    </tr>\n",
              "    <tr>\n",
              "      <th>mr</th>\n",
              "      <td>193.333333</td>\n",
              "    </tr>\n",
              "    <tr>\n",
              "      <th>ta</th>\n",
              "      <td>159.258448</td>\n",
              "    </tr>\n",
              "    <tr>\n",
              "      <th>ja</th>\n",
              "      <td>122.763087</td>\n",
              "    </tr>\n",
              "    <tr>\n",
              "      <th>ru</th>\n",
              "      <td>115.160185</td>\n",
              "    </tr>\n",
              "    <tr>\n",
              "      <th>es</th>\n",
              "      <td>103.433478</td>\n",
              "    </tr>\n",
              "    <tr>\n",
              "      <th>cn</th>\n",
              "      <td>86.002479</td>\n",
              "    </tr>\n",
              "    <tr>\n",
              "      <th>fr</th>\n",
              "      <td>51.900020</td>\n",
              "    </tr>\n",
              "    <tr>\n",
              "      <th>sv</th>\n",
              "      <td>25.853172</td>\n",
              "    </tr>\n",
              "    <tr>\n",
              "      <th>da</th>\n",
              "      <td>24.702661</td>\n",
              "    </tr>\n",
              "    <tr>\n",
              "      <th>no</th>\n",
              "      <td>24.155275</td>\n",
              "    </tr>\n",
              "    <tr>\n",
              "      <th>it</th>\n",
              "      <td>22.136747</td>\n",
              "    </tr>\n",
              "    <tr>\n",
              "      <th>nb</th>\n",
              "      <td>18.847943</td>\n",
              "    </tr>\n",
              "    <tr>\n",
              "      <th>fa</th>\n",
              "      <td>3.235168</td>\n",
              "    </tr>\n",
              "    <tr>\n",
              "      <th>nl</th>\n",
              "      <td>-24.142008</td>\n",
              "    </tr>\n",
              "    <tr>\n",
              "      <th>pt</th>\n",
              "      <td>-29.291459</td>\n",
              "    </tr>\n",
              "    <tr>\n",
              "      <th>fi</th>\n",
              "      <td>-30.319235</td>\n",
              "    </tr>\n",
              "    <tr>\n",
              "      <th>id</th>\n",
              "      <td>-41.617578</td>\n",
              "    </tr>\n",
              "    <tr>\n",
              "      <th>vi</th>\n",
              "      <td>-50.846154</td>\n",
              "    </tr>\n",
              "    <tr>\n",
              "      <th>ro</th>\n",
              "      <td>-62.182109</td>\n",
              "    </tr>\n",
              "    <tr>\n",
              "      <th>ar</th>\n",
              "      <td>-91.807009</td>\n",
              "    </tr>\n",
              "    <tr>\n",
              "      <th>hu</th>\n",
              "      <td>-95.535384</td>\n",
              "    </tr>\n",
              "    <tr>\n",
              "      <th>bn</th>\n",
              "      <td>-96.739429</td>\n",
              "    </tr>\n",
              "    <tr>\n",
              "      <th>cs</th>\n",
              "      <td>-99.894267</td>\n",
              "    </tr>\n",
              "  </tbody>\n",
              "</table>\n",
              "</div>"
            ],
            "text/plain": [
              "                            roi\n",
              "original_language              \n",
              "ko                 11277.949295\n",
              "el                  5198.013245\n",
              "sr                  3397.506200\n",
              "en                   929.987781\n",
              "tr                   558.596201\n",
              "de                   510.347257\n",
              "he                   456.292450\n",
              "te                   440.076812\n",
              "pl                   395.816987\n",
              "ml                   370.833333\n",
              "ur                   350.673773\n",
              "zh                   309.093227\n",
              "hi                   249.618424\n",
              "mr                   193.333333\n",
              "ta                   159.258448\n",
              "ja                   122.763087\n",
              "ru                   115.160185\n",
              "es                   103.433478\n",
              "cn                    86.002479\n",
              "fr                    51.900020\n",
              "sv                    25.853172\n",
              "da                    24.702661\n",
              "no                    24.155275\n",
              "it                    22.136747\n",
              "nb                    18.847943\n",
              "fa                     3.235168\n",
              "nl                   -24.142008\n",
              "pt                   -29.291459\n",
              "fi                   -30.319235\n",
              "id                   -41.617578\n",
              "vi                   -50.846154\n",
              "ro                   -62.182109\n",
              "ar                   -91.807009\n",
              "hu                   -95.535384\n",
              "bn                   -96.739429\n",
              "cs                   -99.894267"
            ]
          },
          "metadata": {
            "tags": []
          },
          "execution_count": 135
        }
      ]
    },
    {
      "cell_type": "code",
      "metadata": {
        "id": "BqQ7M62orAJ4"
      },
      "source": [
        ""
      ],
      "execution_count": null,
      "outputs": []
    }
  ]
}